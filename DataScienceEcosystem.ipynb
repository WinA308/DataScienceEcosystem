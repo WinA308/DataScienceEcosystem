{
  "nbformat": 4,
  "nbformat_minor": 0,
  "metadata": {
    "colab": {
      "provenance": []
    },
    "kernelspec": {
      "name": "python3",
      "display_name": "Python 3"
    },
    "language_info": {
      "name": "python"
    }
  },
  "cells": [
    {
      "cell_type": "markdown",
      "source": [
        "# Data Science Tools and  Ecosystem"
      ],
      "metadata": {
        "id": "0r6d5JsXJvnk"
      }
    },
    {
      "cell_type": "markdown",
      "source": [
        "### In This Notebook We are Goona Discuss Some Data Science Languages and Tools Althought it is part of assignment Of IBM Data Science Course Which Am Goona Submitted With Given Tasks."
      ],
      "metadata": {
        "id": "AMLLpD-RLy9x"
      }
    },
    {
      "cell_type": "markdown",
      "source": [
        "## Objectives :-\n",
        "\n",
        "*   In This Notebook , We Are Gonna Learn Some Data Science Languages\n",
        "*   In This Notebook , We Are Gonna Learn Some Data Science Libraries\n",
        "*   In This Notebook , We Are Gonna Learn Some Data Science Tools\n",
        "*   Introducing Arthimetic Expression\n",
        "*   We Illustrate Some Codes in Python\n",
        "\n"
      ],
      "metadata": {
        "id": "A6dBB-TQUnQv"
      }
    },
    {
      "cell_type": "markdown",
      "source": [
        "## Data Science Languages Are\n",
        "\n",
        "1.   Python\n",
        "2.   R\n",
        "3.   SQL\n",
        "4.   Scala\n",
        "\n"
      ],
      "metadata": {
        "id": "6aeMdiuvMx2r"
      }
    },
    {
      "cell_type": "markdown",
      "source": [
        "## Data Science Libraries Are\n",
        "\n",
        "1.   Pandas\n",
        "2.   Numpy\n",
        "3.   Sci-kit\n",
        "4.   ggPlot\n",
        "5.   Matplotlib\n",
        "6.   Seaborn\n"
      ],
      "metadata": {
        "id": "5Z7-KPKJN-sC"
      }
    },
    {
      "cell_type": "markdown",
      "source": [
        "## Data Science Tools Are\n",
        "\n",
        "---\n",
        "\n",
        "\n",
        "\n",
        "*   Jupyter Notebook\n",
        "*   RStudio\n",
        "*   SQL Server\n",
        "*   Apache Spark\n",
        "\n",
        "\n",
        "\n",
        "\n"
      ],
      "metadata": {
        "id": "zwRztlmFOjo3"
      }
    },
    {
      "cell_type": "markdown",
      "source": [
        "### Arthimetic Expression :-\n",
        "\n",
        "*   Multiplication(*)\n",
        "*   Division(/)\n",
        "*   Addition(+)\n",
        "*   Subtraction(-)\n",
        "*   Greater Then(<)\n",
        "*   Less Then(>)\n",
        "*   Equal To(=)\n",
        "\n"
      ],
      "metadata": {
        "id": "rX4sZo56Q7QZ"
      }
    },
    {
      "cell_type": "code",
      "source": [
        "print((3*5)+5)"
      ],
      "metadata": {
        "colab": {
          "base_uri": "https://localhost:8080/"
        },
        "id": "KITfplx2Squo",
        "outputId": "a6f93deb-bf27-491a-c49b-b4ddfcc28ea7"
      },
      "execution_count": 1,
      "outputs": [
        {
          "output_type": "stream",
          "name": "stdout",
          "text": [
            "20\n"
          ]
        }
      ]
    },
    {
      "cell_type": "code",
      "source": [
        "minutes = 200\n",
        "hours = minutes/60\n",
        "print(round(hours,2))"
      ],
      "metadata": {
        "colab": {
          "base_uri": "https://localhost:8080/"
        },
        "id": "DsYewwqETedo",
        "outputId": "c2448859-1291-4baf-928c-4c84dd3625a0"
      },
      "execution_count": 5,
      "outputs": [
        {
          "output_type": "stream",
          "name": "stdout",
          "text": [
            "3.33\n"
          ]
        }
      ]
    },
    {
      "cell_type": "markdown",
      "source": [
        "## Author\n",
        "### Vinay Ghosh"
      ],
      "metadata": {
        "id": "BFyYW58cVvMg"
      }
    }
  ]
}